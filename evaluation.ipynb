{
  "nbformat": 4,
  "nbformat_minor": 0,
  "metadata": {
    "colab": {
      "provenance": []
    },
    "kernelspec": {
      "name": "python3",
      "display_name": "Python 3"
    },
    "language_info": {
      "name": "python"
    }
  },
  "cells": [
    {
      "cell_type": "code",
      "source": [
        "# SolarWise Model Evaluation Script\n",
        "\n",
        "import pandas as pd\n",
        "import joblib\n",
        "from sklearn.model_selection import train_test_split\n",
        "from sklearn.metrics import mean_squared_error, r2_score\n"
      ],
      "metadata": {
        "id": "7sgC7E9v6wFd"
      },
      "execution_count": 3,
      "outputs": []
    },
    {
      "cell_type": "code",
      "source": [
        "# Step 1: Load Dataset\n",
        "df = pd.read_csv('solar_load_sample.csv', parse_dates=['timestamp'])\n",
        "df = df.sort_values('timestamp')\n",
        "df['load_lag_1'] = df['load_kW'].shift(1)\n",
        "df['solar_lag_1'] = df['solar_kW'].shift(1)\n",
        "df = df.dropna()\n"
      ],
      "metadata": {
        "id": "s33vnX8P7klp"
      },
      "execution_count": 4,
      "outputs": []
    },
    {
      "cell_type": "code",
      "source": [
        "# Step 1: Load Dataset\n",
        "df = pd.read_csv('solar_load_sample.csv', parse_dates=['timestamp'])\n",
        "df = df.sort_values('timestamp')\n",
        "df['load_lag_1'] = df['load_kW'].shift(1)\n",
        "df['solar_lag_1'] = df['solar_kW'].shift(1)\n",
        "df = df.dropna()\n"
      ],
      "metadata": {
        "id": "bZXiEdaN7rBM"
      },
      "execution_count": 5,
      "outputs": []
    },
    {
      "cell_type": "code",
      "source": [
        "# Step 4: Load Pre-trained Scaler and Model\n",
        "scaler = joblib.load('scaler.pkl')\n",
        "model = joblib.load('solarwise_load_predictor_model.pkl')\n",
        "\n",
        "# Step 5: Transform Test Data\n",
        "X_test_scaled = scaler.transform(X_test)"
      ],
      "metadata": {
        "id": "Ja8DNuoQ7wFG"
      },
      "execution_count": 6,
      "outputs": []
    },
    {
      "cell_type": "code",
      "source": [
        "# Step 6: Predict using Trained Model\n",
        "y_pred = model.predict(X_test_scaled)\n",
        "\n",
        "# Step 7: Evaluate Model\n",
        "mse = mean_squared_error(y_test, y_pred)\n",
        "r2 = r2_score(y_test, y_pred)\n",
        "\n",
        "print(f\"Model Evaluation Results:\")\n",
        "print(f\"Mean Squared Error (MSE): {mse:.4f}\")\n",
        "print(f\"R² Score: {r2:.4f}\")"
      ],
      "metadata": {
        "colab": {
          "base_uri": "https://localhost:8080/"
        },
        "id": "5QKSt57O7zfy",
        "outputId": "8cfb82d4-d341-4303-cc1b-c9a840aef948"
      },
      "execution_count": 7,
      "outputs": [
        {
          "output_type": "stream",
          "name": "stdout",
          "text": [
            "Model Evaluation Results:\n",
            "Mean Squared Error (MSE): 0.0325\n",
            "R² Score: 0.8179\n"
          ]
        }
      ]
    },
    {
      "cell_type": "code",
      "source": [],
      "metadata": {
        "id": "lnwGCk6772o1"
      },
      "execution_count": null,
      "outputs": []
    }
  ]
}